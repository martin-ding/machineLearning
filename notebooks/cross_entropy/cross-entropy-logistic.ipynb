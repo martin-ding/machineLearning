{
  "cells": [
    {
      "cell_type": "markdown",
      "metadata": {
        "id": "J8Ml13Qsblet"
      },
      "source": [
        "# Logistic classification with cross-entropy (1/2)"
      ]
    },
    {
      "cell_type": "markdown",
      "metadata": {
        "id": "g7sGF4J7blev"
      },
      "source": [
        "This tutorial will describe the [logistic function](#Logistic-function) used to model binary classification problems. We will provide derivations of the gradients used for optimizing any parameters with regards to the [cross-entropy](#Cross-entropy-loss-function-for-the-logistic-function).\n",
        "\n",
        "To output discrete classes with neural networks, we can model a probability distribution over the output classes $t$. For the classification of 2 classes $t=1$ or $t=0$ we can use the [logistic function](http://en.wikipedia.org/wiki/Logistic_function) used in [logistic regression](http://en.wikipedia.org/wiki/Logistic_regression). For multiclass classification there exists an extension of this logistic function called the [softmax function](http://en.wikipedia.org/wiki/Softmax_function), which is used in [multinomial logistic regression](http://en.wikipedia.org/wiki/Multinomial_logistic_regression). The [following section]({% post_url /blog/cross_entropy/2015-06-11-cross-entropy-softmax %}) will explain the softmax function and how to derive it. What follows here will explain the logistic function and how to optimize it."
      ]
    },
    {
      "cell_type": "markdown",
      "metadata": {
        "id": "iK7pjM3eblew"
      },
      "source": [
        "This is the first part of a 2-part tutorial on classification models trained by cross-entropy:\n",
        "- [Part 1: Logistic classification with cross-entropy (this)]({% post_url /blog/cross_entropy/2015-06-10-cross-entropy-logistic %})\n",
        "- [Part 2: Softmax classification with cross-entropy]({% post_url /blog/cross_entropy/2015-06-11-cross-entropy-softmax %})"
      ]
    },
    {
      "cell_type": "code",
      "execution_count": 1,
      "metadata": {
        "id": "mQD6maC0blex"
      },
      "outputs": [],
      "source": [
        "# Python imports\n",
        "%matplotlib inline\n",
        "%config InlineBackend.figure_format = 'svg'\n",
        "\n",
        "import numpy as np\n",
        "import matplotlib\n",
        "import matplotlib.pyplot as plt  # Plotting library\n",
        "import seaborn as sns  # Fancier plots\n",
        "\n",
        "# Set matplotlib and seaborn plotting style\n",
        "sns.set_style('darkgrid')\n",
        "#"
      ]
    },
    {
      "cell_type": "markdown",
      "metadata": {
        "id": "jZM88WHiblex"
      },
      "source": [
        "## Logistic function\n",
        "\n",
        "The goal is to predict the target class $t$ from an input $z$. The probability $P(t=1 | z)$ that input $z$ is classified as class $t=1$ is represented by the output $y$ of the logistic function computed as $y = \\sigma(z)$. The [logistic function](http://en.wikipedia.org/wiki/Logistic_function) $\\sigma$ is defined as:\n",
        "$$ \\sigma(z) = \\frac{1}{1+e^{-z}} $$\n",
        "\n",
        "This logistic function, implemented below as `logistic(z)`, maps the input $z$ to an output between $0$ and $1$ as is illustrated in the figure below.\n",
        "\n",
        "We can write the probabilities that the class is $t=1$ or $t=0$ given input $z$ as:\n",
        "\n",
        "$$\\begin{split}\n",
        "P(t=1| z) & = \\sigma(z) = \\frac{1}{1+e^{-z}} \\\\\n",
        "P(t=0| z) & = 1 - \\sigma(z) = \\frac{e^{-z}}{1+e^{-z}}\n",
        "\\end{split}$$\n",
        "\n",
        "Note that input $z$ to the logistic function corresponds to the log [odds ratio](https://en.wikipedia.org/wiki/Odds_ratio) of $P(t=1|z)$ over $P(t=0|z)$.\n",
        "\n",
        "$$\\begin{split}\n",
        "\\log \\frac{P(t=1|z)}{P(t=0|z)} & = \\log \\frac{\\frac{1}{1+e^{-z}}}{\\frac{e^{-z}}{1+e^{-z}}} = \\log \\frac{1}{e^{-z}} \\\\\n",
        "& = \\log(1) - \\log(e^{-z}) = z\n",
        "\\end{split}$$\n",
        "\n",
        "This means that the log-odds $\\log(P(t=1|z)/P(t=0|z))$ changes linearly with $z$. If $z = x \\cdot w$, as in a typical neural network linear layer, then as a result, the log-odds will change linearly with the parameters $w$ and input samples $x$."
      ]
    },
    {
      "cell_type": "code",
      "execution_count": 2,
      "metadata": {
        "id": "c6pfNczjblex"
      },
      "outputs": [],
      "source": [
        "def logistic(z):\n",
        "    \"\"\"Logistic function.\"\"\"\n",
        "    return 1 / (1 + np.exp(-z))"
      ]
    },
    {
      "cell_type": "code",
      "execution_count": 3,
      "metadata": {
        "id": "cQe0ub9rbley",
        "outputId": "93ffb91a-3732-4d76-a0fb-7d53b4e41be0",
        "colab": {
          "base_uri": "https://localhost:8080/",
          "height": 325
        }
      },
      "outputs": [
        {
          "output_type": "display_data",
          "data": {
            "text/plain": [
              "<Figure size 500x300 with 1 Axes>"
            ],
            "image/svg+xml": "<?xml version=\"1.0\" encoding=\"utf-8\" standalone=\"no\"?>\n<!DOCTYPE svg PUBLIC \"-//W3C//DTD SVG 1.1//EN\"\n  \"http://www.w3.org/Graphics/SVG/1.1/DTD/svg11.dtd\">\n<svg xmlns:xlink=\"http://www.w3.org/1999/xlink\" width=\"335.098125pt\" height=\"228.13pt\" viewBox=\"0 0 335.098125 228.13\" xmlns=\"http://www.w3.org/2000/svg\" version=\"1.1\">\n <metadata>\n  <rdf:RDF xmlns:dc=\"http://purl.org/dc/elements/1.1/\" xmlns:cc=\"http://creativecommons.org/ns#\" xmlns:rdf=\"http://www.w3.org/1999/02/22-rdf-syntax-ns#\">\n   <cc:Work>\n    <dc:type rdf:resource=\"http://purl.org/dc/dcmitype/StillImage\"/>\n    <dc:date>2024-12-26T10:08:26.894740</dc:date>\n    <dc:format>image/svg+xml</dc:format>\n    <dc:creator>\n     <cc:Agent>\n      <dc:title>Matplotlib v3.8.0, https://matplotlib.org/</dc:title>\n     </cc:Agent>\n    </dc:creator>\n   </cc:Work>\n  </rdf:RDF>\n </metadata>\n <defs>\n  <style type=\"text/css\">*{stroke-linejoin: round; stroke-linecap: butt}</style>\n </defs>\n <g id=\"figure_1\">\n  <g id=\"patch_1\">\n   <path d=\"M 0 228.13 \nL 335.098125 228.13 \nL 335.098125 0 \nL 0 0 \nz\n\" style=\"fill: #ffffff\"/>\n  </g>\n  <g id=\"axes_1\">\n   <g id=\"patch_2\">\n    <path d=\"M 45.716875 188.638125 \nL 324.716875 188.638125 \nL 324.716875 22.318125 \nL 45.716875 22.318125 \nz\n\" style=\"fill: #eaeaf2\"/>\n   </g>\n   <g id=\"matplotlib.axis_1\">\n    <g id=\"xtick_1\">\n     <g id=\"line2d_1\">\n      <path d=\"M 45.716875 188.638125 \nL 45.716875 22.318125 \n\" clip-path=\"url(#p8c32927e1f)\" style=\"fill: none; stroke: #ffffff; stroke-width: 0.8; stroke-linecap: round\"/>\n     </g>\n     <g id=\"text_1\">\n      <!-- −8 -->\n      <g style=\"fill: #262626\" transform=\"translate(38.345781 203.236562) scale(0.1 -0.1)\">\n       <defs>\n        <path id=\"DejaVuSans-2212\" d=\"M 678 2272 \nL 4684 2272 \nL 4684 1741 \nL 678 1741 \nL 678 2272 \nz\n\" transform=\"scale(0.015625)\"/>\n        <path id=\"DejaVuSans-38\" d=\"M 2034 2216 \nQ 1584 2216 1326 1975 \nQ 1069 1734 1069 1313 \nQ 1069 891 1326 650 \nQ 1584 409 2034 409 \nQ 2484 409 2743 651 \nQ 3003 894 3003 1313 \nQ 3003 1734 2745 1975 \nQ 2488 2216 2034 2216 \nz\nM 1403 2484 \nQ 997 2584 770 2862 \nQ 544 3141 544 3541 \nQ 544 4100 942 4425 \nQ 1341 4750 2034 4750 \nQ 2731 4750 3128 4425 \nQ 3525 4100 3525 3541 \nQ 3525 3141 3298 2862 \nQ 3072 2584 2669 2484 \nQ 3125 2378 3379 2068 \nQ 3634 1759 3634 1313 \nQ 3634 634 3220 271 \nQ 2806 -91 2034 -91 \nQ 1263 -91 848 271 \nQ 434 634 434 1313 \nQ 434 1759 690 2068 \nQ 947 2378 1403 2484 \nz\nM 1172 3481 \nQ 1172 3119 1398 2916 \nQ 1625 2713 2034 2713 \nQ 2441 2713 2670 2916 \nQ 2900 3119 2900 3481 \nQ 2900 3844 2670 4047 \nQ 2441 4250 2034 4250 \nQ 1625 4250 1398 4047 \nQ 1172 3844 1172 3481 \nz\n\" transform=\"scale(0.015625)\"/>\n       </defs>\n       <use xlink:href=\"#DejaVuSans-2212\"/>\n       <use xlink:href=\"#DejaVuSans-38\" x=\"83.789062\"/>\n      </g>\n     </g>\n    </g>\n    <g id=\"xtick_2\">\n     <g id=\"line2d_2\">\n      <path d=\"M 80.591875 188.638125 \nL 80.591875 22.318125 \n\" clip-path=\"url(#p8c32927e1f)\" style=\"fill: none; stroke: #ffffff; stroke-width: 0.8; stroke-linecap: round\"/>\n     </g>\n     <g id=\"text_2\">\n      <!-- −6 -->\n      <g style=\"fill: #262626\" transform=\"translate(73.220781 203.236562) scale(0.1 -0.1)\">\n       <defs>\n        <path id=\"DejaVuSans-36\" d=\"M 2113 2584 \nQ 1688 2584 1439 2293 \nQ 1191 2003 1191 1497 \nQ 1191 994 1439 701 \nQ 1688 409 2113 409 \nQ 2538 409 2786 701 \nQ 3034 994 3034 1497 \nQ 3034 2003 2786 2293 \nQ 2538 2584 2113 2584 \nz\nM 3366 4563 \nL 3366 3988 \nQ 3128 4100 2886 4159 \nQ 2644 4219 2406 4219 \nQ 1781 4219 1451 3797 \nQ 1122 3375 1075 2522 \nQ 1259 2794 1537 2939 \nQ 1816 3084 2150 3084 \nQ 2853 3084 3261 2657 \nQ 3669 2231 3669 1497 \nQ 3669 778 3244 343 \nQ 2819 -91 2113 -91 \nQ 1303 -91 875 529 \nQ 447 1150 447 2328 \nQ 447 3434 972 4092 \nQ 1497 4750 2381 4750 \nQ 2619 4750 2861 4703 \nQ 3103 4656 3366 4563 \nz\n\" transform=\"scale(0.015625)\"/>\n       </defs>\n       <use xlink:href=\"#DejaVuSans-2212\"/>\n       <use xlink:href=\"#DejaVuSans-36\" x=\"83.789062\"/>\n      </g>\n     </g>\n    </g>\n    <g id=\"xtick_3\">\n     <g id=\"line2d_3\">\n      <path d=\"M 115.466875 188.638125 \nL 115.466875 22.318125 \n\" clip-path=\"url(#p8c32927e1f)\" style=\"fill: none; stroke: #ffffff; stroke-width: 0.8; stroke-linecap: round\"/>\n     </g>\n     <g id=\"text_3\">\n      <!-- −4 -->\n      <g style=\"fill: #262626\" transform=\"translate(108.095781 203.236562) scale(0.1 -0.1)\">\n       <defs>\n        <path id=\"DejaVuSans-34\" d=\"M 2419 4116 \nL 825 1625 \nL 2419 1625 \nL 2419 4116 \nz\nM 2253 4666 \nL 3047 4666 \nL 3047 1625 \nL 3713 1625 \nL 3713 1100 \nL 3047 1100 \nL 3047 0 \nL 2419 0 \nL 2419 1100 \nL 313 1100 \nL 313 1709 \nL 2253 4666 \nz\n\" transform=\"scale(0.015625)\"/>\n       </defs>\n       <use xlink:href=\"#DejaVuSans-2212\"/>\n       <use xlink:href=\"#DejaVuSans-34\" x=\"83.789062\"/>\n      </g>\n     </g>\n    </g>\n    <g id=\"xtick_4\">\n     <g id=\"line2d_4\">\n      <path d=\"M 150.341875 188.638125 \nL 150.341875 22.318125 \n\" clip-path=\"url(#p8c32927e1f)\" style=\"fill: none; stroke: #ffffff; stroke-width: 0.8; stroke-linecap: round\"/>\n     </g>\n     <g id=\"text_4\">\n      <!-- −2 -->\n      <g style=\"fill: #262626\" transform=\"translate(142.970781 203.236562) scale(0.1 -0.1)\">\n       <defs>\n        <path id=\"DejaVuSans-32\" d=\"M 1228 531 \nL 3431 531 \nL 3431 0 \nL 469 0 \nL 469 531 \nQ 828 903 1448 1529 \nQ 2069 2156 2228 2338 \nQ 2531 2678 2651 2914 \nQ 2772 3150 2772 3378 \nQ 2772 3750 2511 3984 \nQ 2250 4219 1831 4219 \nQ 1534 4219 1204 4116 \nQ 875 4013 500 3803 \nL 500 4441 \nQ 881 4594 1212 4672 \nQ 1544 4750 1819 4750 \nQ 2544 4750 2975 4387 \nQ 3406 4025 3406 3419 \nQ 3406 3131 3298 2873 \nQ 3191 2616 2906 2266 \nQ 2828 2175 2409 1742 \nQ 1991 1309 1228 531 \nz\n\" transform=\"scale(0.015625)\"/>\n       </defs>\n       <use xlink:href=\"#DejaVuSans-2212\"/>\n       <use xlink:href=\"#DejaVuSans-32\" x=\"83.789062\"/>\n      </g>\n     </g>\n    </g>\n    <g id=\"xtick_5\">\n     <g id=\"line2d_5\">\n      <path d=\"M 185.216875 188.638125 \nL 185.216875 22.318125 \n\" clip-path=\"url(#p8c32927e1f)\" style=\"fill: none; stroke: #ffffff; stroke-width: 0.8; stroke-linecap: round\"/>\n     </g>\n     <g id=\"text_5\">\n      <!-- 0 -->\n      <g style=\"fill: #262626\" transform=\"translate(182.035625 203.236562) scale(0.1 -0.1)\">\n       <defs>\n        <path id=\"DejaVuSans-30\" d=\"M 2034 4250 \nQ 1547 4250 1301 3770 \nQ 1056 3291 1056 2328 \nQ 1056 1369 1301 889 \nQ 1547 409 2034 409 \nQ 2525 409 2770 889 \nQ 3016 1369 3016 2328 \nQ 3016 3291 2770 3770 \nQ 2525 4250 2034 4250 \nz\nM 2034 4750 \nQ 2819 4750 3233 4129 \nQ 3647 3509 3647 2328 \nQ 3647 1150 3233 529 \nQ 2819 -91 2034 -91 \nQ 1250 -91 836 529 \nQ 422 1150 422 2328 \nQ 422 3509 836 4129 \nQ 1250 4750 2034 4750 \nz\n\" transform=\"scale(0.015625)\"/>\n       </defs>\n       <use xlink:href=\"#DejaVuSans-30\"/>\n      </g>\n     </g>\n    </g>\n    <g id=\"xtick_6\">\n     <g id=\"line2d_6\">\n      <path d=\"M 220.091875 188.638125 \nL 220.091875 22.318125 \n\" clip-path=\"url(#p8c32927e1f)\" style=\"fill: none; stroke: #ffffff; stroke-width: 0.8; stroke-linecap: round\"/>\n     </g>\n     <g id=\"text_6\">\n      <!-- 2 -->\n      <g style=\"fill: #262626\" transform=\"translate(216.910625 203.236562) scale(0.1 -0.1)\">\n       <use xlink:href=\"#DejaVuSans-32\"/>\n      </g>\n     </g>\n    </g>\n    <g id=\"xtick_7\">\n     <g id=\"line2d_7\">\n      <path d=\"M 254.966875 188.638125 \nL 254.966875 22.318125 \n\" clip-path=\"url(#p8c32927e1f)\" style=\"fill: none; stroke: #ffffff; stroke-width: 0.8; stroke-linecap: round\"/>\n     </g>\n     <g id=\"text_7\">\n      <!-- 4 -->\n      <g style=\"fill: #262626\" transform=\"translate(251.785625 203.236562) scale(0.1 -0.1)\">\n       <use xlink:href=\"#DejaVuSans-34\"/>\n      </g>\n     </g>\n    </g>\n    <g id=\"xtick_8\">\n     <g id=\"line2d_8\">\n      <path d=\"M 289.841875 188.638125 \nL 289.841875 22.318125 \n\" clip-path=\"url(#p8c32927e1f)\" style=\"fill: none; stroke: #ffffff; stroke-width: 0.8; stroke-linecap: round\"/>\n     </g>\n     <g id=\"text_8\">\n      <!-- 6 -->\n      <g style=\"fill: #262626\" transform=\"translate(286.660625 203.236562) scale(0.1 -0.1)\">\n       <use xlink:href=\"#DejaVuSans-36\"/>\n      </g>\n     </g>\n    </g>\n    <g id=\"xtick_9\">\n     <g id=\"line2d_9\">\n      <path d=\"M 324.716875 188.638125 \nL 324.716875 22.318125 \n\" clip-path=\"url(#p8c32927e1f)\" style=\"fill: none; stroke: #ffffff; stroke-width: 0.8; stroke-linecap: round\"/>\n     </g>\n     <g id=\"text_9\">\n      <!-- 8 -->\n      <g style=\"fill: #262626\" transform=\"translate(321.535625 203.236562) scale(0.1 -0.1)\">\n       <use xlink:href=\"#DejaVuSans-38\"/>\n      </g>\n     </g>\n    </g>\n    <g id=\"text_10\">\n     <!-- $z$ -->\n     <g style=\"fill: #262626\" transform=\"translate(182.036875 218.434375) scale(0.12 -0.12)\">\n      <defs>\n       <path id=\"DejaVuSans-Oblique-7a\" d=\"M 744 3500 \nL 3475 3500 \nL 3372 2975 \nL 738 459 \nL 2913 459 \nL 2822 0 \nL -19 0 \nL 84 525 \nL 2719 3041 \nL 653 3041 \nL 744 3500 \nz\n\" transform=\"scale(0.015625)\"/>\n      </defs>\n      <use xlink:href=\"#DejaVuSans-Oblique-7a\" transform=\"translate(0 0.3125)\"/>\n     </g>\n    </g>\n   </g>\n   <g id=\"matplotlib.axis_2\">\n    <g id=\"ytick_1\">\n     <g id=\"line2d_10\">\n      <path d=\"M 45.716875 181.128864 \nL 324.716875 181.128864 \n\" clip-path=\"url(#p8c32927e1f)\" style=\"fill: none; stroke: #ffffff; stroke-width: 0.8; stroke-linecap: round\"/>\n     </g>\n     <g id=\"text_11\">\n      <!-- 0.0 -->\n      <g style=\"fill: #262626\" transform=\"translate(22.81375 184.928083) scale(0.1 -0.1)\">\n       <defs>\n        <path id=\"DejaVuSans-2e\" d=\"M 684 794 \nL 1344 794 \nL 1344 0 \nL 684 0 \nL 684 794 \nz\n\" transform=\"scale(0.015625)\"/>\n       </defs>\n       <use xlink:href=\"#DejaVuSans-30\"/>\n       <use xlink:href=\"#DejaVuSans-2e\" x=\"63.623047\"/>\n       <use xlink:href=\"#DejaVuSans-30\" x=\"95.410156\"/>\n      </g>\n     </g>\n    </g>\n    <g id=\"ytick_2\">\n     <g id=\"line2d_11\">\n      <path d=\"M 45.716875 150.868568 \nL 324.716875 150.868568 \n\" clip-path=\"url(#p8c32927e1f)\" style=\"fill: none; stroke: #ffffff; stroke-width: 0.8; stroke-linecap: round\"/>\n     </g>\n     <g id=\"text_12\">\n      <!-- 0.2 -->\n      <g style=\"fill: #262626\" transform=\"translate(22.81375 154.667787) scale(0.1 -0.1)\">\n       <use xlink:href=\"#DejaVuSans-30\"/>\n       <use xlink:href=\"#DejaVuSans-2e\" x=\"63.623047\"/>\n       <use xlink:href=\"#DejaVuSans-32\" x=\"95.410156\"/>\n      </g>\n     </g>\n    </g>\n    <g id=\"ytick_3\">\n     <g id=\"line2d_12\">\n      <path d=\"M 45.716875 120.608273 \nL 324.716875 120.608273 \n\" clip-path=\"url(#p8c32927e1f)\" style=\"fill: none; stroke: #ffffff; stroke-width: 0.8; stroke-linecap: round\"/>\n     </g>\n     <g id=\"text_13\">\n      <!-- 0.4 -->\n      <g style=\"fill: #262626\" transform=\"translate(22.81375 124.407492) scale(0.1 -0.1)\">\n       <use xlink:href=\"#DejaVuSans-30\"/>\n       <use xlink:href=\"#DejaVuSans-2e\" x=\"63.623047\"/>\n       <use xlink:href=\"#DejaVuSans-34\" x=\"95.410156\"/>\n      </g>\n     </g>\n    </g>\n    <g id=\"ytick_4\">\n     <g id=\"line2d_13\">\n      <path d=\"M 45.716875 90.347977 \nL 324.716875 90.347977 \n\" clip-path=\"url(#p8c32927e1f)\" style=\"fill: none; stroke: #ffffff; stroke-width: 0.8; stroke-linecap: round\"/>\n     </g>\n     <g id=\"text_14\">\n      <!-- 0.6 -->\n      <g style=\"fill: #262626\" transform=\"translate(22.81375 94.147196) scale(0.1 -0.1)\">\n       <use xlink:href=\"#DejaVuSans-30\"/>\n       <use xlink:href=\"#DejaVuSans-2e\" x=\"63.623047\"/>\n       <use xlink:href=\"#DejaVuSans-36\" x=\"95.410156\"/>\n      </g>\n     </g>\n    </g>\n    <g id=\"ytick_5\">\n     <g id=\"line2d_14\">\n      <path d=\"M 45.716875 60.087682 \nL 324.716875 60.087682 \n\" clip-path=\"url(#p8c32927e1f)\" style=\"fill: none; stroke: #ffffff; stroke-width: 0.8; stroke-linecap: round\"/>\n     </g>\n     <g id=\"text_15\">\n      <!-- 0.8 -->\n      <g style=\"fill: #262626\" transform=\"translate(22.81375 63.8869) scale(0.1 -0.1)\">\n       <use xlink:href=\"#DejaVuSans-30\"/>\n       <use xlink:href=\"#DejaVuSans-2e\" x=\"63.623047\"/>\n       <use xlink:href=\"#DejaVuSans-38\" x=\"95.410156\"/>\n      </g>\n     </g>\n    </g>\n    <g id=\"ytick_6\">\n     <g id=\"line2d_15\">\n      <path d=\"M 45.716875 29.827386 \nL 324.716875 29.827386 \n\" clip-path=\"url(#p8c32927e1f)\" style=\"fill: none; stroke: #ffffff; stroke-width: 0.8; stroke-linecap: round\"/>\n     </g>\n     <g id=\"text_16\">\n      <!-- 1.0 -->\n      <g style=\"fill: #262626\" transform=\"translate(22.81375 33.626605) scale(0.1 -0.1)\">\n       <defs>\n        <path id=\"DejaVuSans-31\" d=\"M 794 531 \nL 1825 531 \nL 1825 4091 \nL 703 3866 \nL 703 4441 \nL 1819 4666 \nL 2450 4666 \nL 2450 531 \nL 3481 531 \nL 3481 0 \nL 794 0 \nL 794 531 \nz\n\" transform=\"scale(0.015625)\"/>\n       </defs>\n       <use xlink:href=\"#DejaVuSans-31\"/>\n       <use xlink:href=\"#DejaVuSans-2e\" x=\"63.623047\"/>\n       <use xlink:href=\"#DejaVuSans-30\" x=\"95.410156\"/>\n      </g>\n     </g>\n    </g>\n    <g id=\"text_17\">\n     <!-- $\\sigma(z)$ -->\n     <g style=\"fill: #262626\" transform=\"translate(16.318125 117.118125) rotate(-90) scale(0.12 -0.12)\">\n      <defs>\n       <path id=\"DejaVuSans-Oblique-3c3\" d=\"M 2219 3044 \nQ 1744 3044 1422 2700 \nQ 1081 2341 969 1747 \nQ 844 1119 1044 756 \nQ 1241 397 1706 397 \nQ 2166 397 2503 759 \nQ 2844 1122 2966 1747 \nQ 3075 2319 2881 2700 \nQ 2700 3044 2219 3044 \nz\nM 2309 3503 \nL 4219 3500 \nL 4106 2925 \nL 3463 2925 \nQ 3706 2438 3575 1747 \nQ 3406 888 2884 400 \nQ 2359 -91 1609 -91 \nQ 856 -91 525 400 \nQ 194 888 363 1747 \nQ 528 2609 1050 3097 \nQ 1484 3503 2309 3503 \nz\n\" transform=\"scale(0.015625)\"/>\n       <path id=\"DejaVuSans-28\" d=\"M 1984 4856 \nQ 1566 4138 1362 3434 \nQ 1159 2731 1159 2009 \nQ 1159 1288 1364 580 \nQ 1569 -128 1984 -844 \nL 1484 -844 \nQ 1016 -109 783 600 \nQ 550 1309 550 2009 \nQ 550 2706 781 3412 \nQ 1013 4119 1484 4856 \nL 1984 4856 \nz\n\" transform=\"scale(0.015625)\"/>\n       <path id=\"DejaVuSans-29\" d=\"M 513 4856 \nL 1013 4856 \nQ 1481 4119 1714 3412 \nQ 1947 2706 1947 2009 \nQ 1947 1309 1714 600 \nQ 1481 -109 1013 -844 \nL 513 -844 \nQ 928 -128 1133 580 \nQ 1338 1288 1338 2009 \nQ 1338 2731 1133 3434 \nQ 928 4138 513 4856 \nz\n\" transform=\"scale(0.015625)\"/>\n      </defs>\n      <use xlink:href=\"#DejaVuSans-Oblique-3c3\" transform=\"translate(0 0.125)\"/>\n      <use xlink:href=\"#DejaVuSans-28\" transform=\"translate(63.378906 0.125)\"/>\n      <use xlink:href=\"#DejaVuSans-Oblique-7a\" transform=\"translate(102.392578 0.125)\"/>\n      <use xlink:href=\"#DejaVuSans-29\" transform=\"translate(154.882812 0.125)\"/>\n     </g>\n    </g>\n   </g>\n   <g id=\"line2d_16\">\n    <path d=\"M 45.716875 181.078125 \nL 48.535057 181.069228 \nL 51.353239 181.058773 \nL 54.17142 181.046485 \nL 56.989602 181.032044 \nL 59.807784 181.015074 \nL 62.625966 180.995131 \nL 65.444148 180.971698 \nL 68.26233 180.944163 \nL 71.080511 180.911811 \nL 73.898693 180.873803 \nL 76.716875 180.829151 \nL 79.535057 180.776701 \nL 82.353239 180.715098 \nL 85.17142 180.642753 \nL 87.989602 180.557806 \nL 90.807784 180.458081 \nL 93.625966 180.341033 \nL 96.444148 180.203685 \nL 99.26233 180.042566 \nL 102.080511 179.853625 \nL 104.898693 179.63215 \nL 107.716875 179.37266 \nL 110.535057 179.0688 \nL 113.353239 178.713216 \nL 116.17142 178.297419 \nL 118.989602 177.811647 \nL 121.807784 177.244715 \nL 124.625966 176.583867 \nL 127.444148 175.814635 \nL 130.26233 174.920719 \nL 133.080511 173.883899 \nL 135.898693 172.683999 \nL 138.716875 171.298933 \nL 141.535057 169.704864 \nL 144.353239 167.876509 \nL 147.17142 165.787629 \nL 149.989602 163.411748 \nL 152.807784 160.723141 \nL 155.625966 157.698097 \nL 158.444148 154.316464 \nL 161.26233 150.56344 \nL 164.080511 146.43151 \nL 166.898693 141.922395 \nL 169.716875 137.048816 \nL 172.535057 131.835827 \nL 175.353239 126.321469 \nL 178.17142 120.556531 \nL 180.989602 114.603265 \nL 183.807784 108.533058 \nL 186.625966 102.423192 \nL 189.444148 96.352985 \nL 192.26233 90.399719 \nL 195.080511 84.634781 \nL 197.898693 79.120423 \nL 200.716875 73.907434 \nL 203.535057 69.033855 \nL 206.353239 64.52474 \nL 209.17142 60.39281 \nL 211.989602 56.639786 \nL 214.807784 53.258153 \nL 217.625966 50.233109 \nL 220.444148 47.544502 \nL 223.26233 45.168621 \nL 226.080511 43.079741 \nL 228.898693 41.251386 \nL 231.716875 39.657317 \nL 234.535057 38.272251 \nL 237.353239 37.072351 \nL 240.17142 36.035531 \nL 242.989602 35.141615 \nL 245.807784 34.372383 \nL 248.625966 33.711535 \nL 251.444148 33.144603 \nL 254.26233 32.658831 \nL 257.080511 32.243034 \nL 259.898693 31.88745 \nL 262.716875 31.58359 \nL 265.535057 31.3241 \nL 268.353239 31.102625 \nL 271.17142 30.913684 \nL 273.989602 30.752565 \nL 276.807784 30.615217 \nL 279.625966 30.498169 \nL 282.444148 30.398444 \nL 285.26233 30.313497 \nL 288.080511 30.241152 \nL 290.898693 30.179549 \nL 293.716875 30.127099 \nL 296.535057 30.082447 \nL 299.353239 30.044439 \nL 302.17142 30.012087 \nL 304.989602 29.984552 \nL 307.807784 29.961119 \nL 310.625966 29.941176 \nL 313.444148 29.924206 \nL 316.26233 29.909765 \nL 319.080511 29.897477 \nL 321.898693 29.887022 \nL 324.716875 29.878125 \n\" clip-path=\"url(#p8c32927e1f)\" style=\"fill: none; stroke: #0000ff; stroke-width: 1.5; stroke-linecap: round\"/>\n   </g>\n   <g id=\"patch_3\">\n    <path d=\"M 45.716875 188.638125 \nL 45.716875 22.318125 \n\" style=\"fill: none; stroke: #ffffff; stroke-width: 0.8; stroke-linejoin: miter; stroke-linecap: square\"/>\n   </g>\n   <g id=\"patch_4\">\n    <path d=\"M 324.716875 188.638125 \nL 324.716875 22.318125 \n\" style=\"fill: none; stroke: #ffffff; stroke-width: 0.8; stroke-linejoin: miter; stroke-linecap: square\"/>\n   </g>\n   <g id=\"patch_5\">\n    <path d=\"M 45.716875 188.638125 \nL 324.716875 188.638125 \n\" style=\"fill: none; stroke: #ffffff; stroke-width: 0.8; stroke-linejoin: miter; stroke-linecap: square\"/>\n   </g>\n   <g id=\"patch_6\">\n    <path d=\"M 45.716875 22.318125 \nL 324.716875 22.318125 \n\" style=\"fill: none; stroke: #ffffff; stroke-width: 0.8; stroke-linejoin: miter; stroke-linecap: square\"/>\n   </g>\n   <g id=\"text_18\">\n    <!-- logistic function -->\n    <g style=\"fill: #262626\" transform=\"translate(137.543125 16.318125) scale(0.12 -0.12)\">\n     <defs>\n      <path id=\"DejaVuSans-6c\" d=\"M 603 4863 \nL 1178 4863 \nL 1178 0 \nL 603 0 \nL 603 4863 \nz\n\" transform=\"scale(0.015625)\"/>\n      <path id=\"DejaVuSans-6f\" d=\"M 1959 3097 \nQ 1497 3097 1228 2736 \nQ 959 2375 959 1747 \nQ 959 1119 1226 758 \nQ 1494 397 1959 397 \nQ 2419 397 2687 759 \nQ 2956 1122 2956 1747 \nQ 2956 2369 2687 2733 \nQ 2419 3097 1959 3097 \nz\nM 1959 3584 \nQ 2709 3584 3137 3096 \nQ 3566 2609 3566 1747 \nQ 3566 888 3137 398 \nQ 2709 -91 1959 -91 \nQ 1206 -91 779 398 \nQ 353 888 353 1747 \nQ 353 2609 779 3096 \nQ 1206 3584 1959 3584 \nz\n\" transform=\"scale(0.015625)\"/>\n      <path id=\"DejaVuSans-67\" d=\"M 2906 1791 \nQ 2906 2416 2648 2759 \nQ 2391 3103 1925 3103 \nQ 1463 3103 1205 2759 \nQ 947 2416 947 1791 \nQ 947 1169 1205 825 \nQ 1463 481 1925 481 \nQ 2391 481 2648 825 \nQ 2906 1169 2906 1791 \nz\nM 3481 434 \nQ 3481 -459 3084 -895 \nQ 2688 -1331 1869 -1331 \nQ 1566 -1331 1297 -1286 \nQ 1028 -1241 775 -1147 \nL 775 -588 \nQ 1028 -725 1275 -790 \nQ 1522 -856 1778 -856 \nQ 2344 -856 2625 -561 \nQ 2906 -266 2906 331 \nL 2906 616 \nQ 2728 306 2450 153 \nQ 2172 0 1784 0 \nQ 1141 0 747 490 \nQ 353 981 353 1791 \nQ 353 2603 747 3093 \nQ 1141 3584 1784 3584 \nQ 2172 3584 2450 3431 \nQ 2728 3278 2906 2969 \nL 2906 3500 \nL 3481 3500 \nL 3481 434 \nz\n\" transform=\"scale(0.015625)\"/>\n      <path id=\"DejaVuSans-69\" d=\"M 603 3500 \nL 1178 3500 \nL 1178 0 \nL 603 0 \nL 603 3500 \nz\nM 603 4863 \nL 1178 4863 \nL 1178 4134 \nL 603 4134 \nL 603 4863 \nz\n\" transform=\"scale(0.015625)\"/>\n      <path id=\"DejaVuSans-73\" d=\"M 2834 3397 \nL 2834 2853 \nQ 2591 2978 2328 3040 \nQ 2066 3103 1784 3103 \nQ 1356 3103 1142 2972 \nQ 928 2841 928 2578 \nQ 928 2378 1081 2264 \nQ 1234 2150 1697 2047 \nL 1894 2003 \nQ 2506 1872 2764 1633 \nQ 3022 1394 3022 966 \nQ 3022 478 2636 193 \nQ 2250 -91 1575 -91 \nQ 1294 -91 989 -36 \nQ 684 19 347 128 \nL 347 722 \nQ 666 556 975 473 \nQ 1284 391 1588 391 \nQ 1994 391 2212 530 \nQ 2431 669 2431 922 \nQ 2431 1156 2273 1281 \nQ 2116 1406 1581 1522 \nL 1381 1569 \nQ 847 1681 609 1914 \nQ 372 2147 372 2553 \nQ 372 3047 722 3315 \nQ 1072 3584 1716 3584 \nQ 2034 3584 2315 3537 \nQ 2597 3491 2834 3397 \nz\n\" transform=\"scale(0.015625)\"/>\n      <path id=\"DejaVuSans-74\" d=\"M 1172 4494 \nL 1172 3500 \nL 2356 3500 \nL 2356 3053 \nL 1172 3053 \nL 1172 1153 \nQ 1172 725 1289 603 \nQ 1406 481 1766 481 \nL 2356 481 \nL 2356 0 \nL 1766 0 \nQ 1100 0 847 248 \nQ 594 497 594 1153 \nL 594 3053 \nL 172 3053 \nL 172 3500 \nL 594 3500 \nL 594 4494 \nL 1172 4494 \nz\n\" transform=\"scale(0.015625)\"/>\n      <path id=\"DejaVuSans-63\" d=\"M 3122 3366 \nL 3122 2828 \nQ 2878 2963 2633 3030 \nQ 2388 3097 2138 3097 \nQ 1578 3097 1268 2742 \nQ 959 2388 959 1747 \nQ 959 1106 1268 751 \nQ 1578 397 2138 397 \nQ 2388 397 2633 464 \nQ 2878 531 3122 666 \nL 3122 134 \nQ 2881 22 2623 -34 \nQ 2366 -91 2075 -91 \nQ 1284 -91 818 406 \nQ 353 903 353 1747 \nQ 353 2603 823 3093 \nQ 1294 3584 2113 3584 \nQ 2378 3584 2631 3529 \nQ 2884 3475 3122 3366 \nz\n\" transform=\"scale(0.015625)\"/>\n      <path id=\"DejaVuSans-20\" transform=\"scale(0.015625)\"/>\n      <path id=\"DejaVuSans-66\" d=\"M 2375 4863 \nL 2375 4384 \nL 1825 4384 \nQ 1516 4384 1395 4259 \nQ 1275 4134 1275 3809 \nL 1275 3500 \nL 2222 3500 \nL 2222 3053 \nL 1275 3053 \nL 1275 0 \nL 697 0 \nL 697 3053 \nL 147 3053 \nL 147 3500 \nL 697 3500 \nL 697 3744 \nQ 697 4328 969 4595 \nQ 1241 4863 1831 4863 \nL 2375 4863 \nz\n\" transform=\"scale(0.015625)\"/>\n      <path id=\"DejaVuSans-75\" d=\"M 544 1381 \nL 544 3500 \nL 1119 3500 \nL 1119 1403 \nQ 1119 906 1312 657 \nQ 1506 409 1894 409 \nQ 2359 409 2629 706 \nQ 2900 1003 2900 1516 \nL 2900 3500 \nL 3475 3500 \nL 3475 0 \nL 2900 0 \nL 2900 538 \nQ 2691 219 2414 64 \nQ 2138 -91 1772 -91 \nQ 1169 -91 856 284 \nQ 544 659 544 1381 \nz\nM 1991 3584 \nL 1991 3584 \nz\n\" transform=\"scale(0.015625)\"/>\n      <path id=\"DejaVuSans-6e\" d=\"M 3513 2113 \nL 3513 0 \nL 2938 0 \nL 2938 2094 \nQ 2938 2591 2744 2837 \nQ 2550 3084 2163 3084 \nQ 1697 3084 1428 2787 \nQ 1159 2491 1159 1978 \nL 1159 0 \nL 581 0 \nL 581 3500 \nL 1159 3500 \nL 1159 2956 \nQ 1366 3272 1645 3428 \nQ 1925 3584 2291 3584 \nQ 2894 3584 3203 3211 \nQ 3513 2838 3513 2113 \nz\n\" transform=\"scale(0.015625)\"/>\n     </defs>\n     <use xlink:href=\"#DejaVuSans-6c\"/>\n     <use xlink:href=\"#DejaVuSans-6f\" x=\"27.783203\"/>\n     <use xlink:href=\"#DejaVuSans-67\" x=\"88.964844\"/>\n     <use xlink:href=\"#DejaVuSans-69\" x=\"152.441406\"/>\n     <use xlink:href=\"#DejaVuSans-73\" x=\"180.224609\"/>\n     <use xlink:href=\"#DejaVuSans-74\" x=\"232.324219\"/>\n     <use xlink:href=\"#DejaVuSans-69\" x=\"271.533203\"/>\n     <use xlink:href=\"#DejaVuSans-63\" x=\"299.316406\"/>\n     <use xlink:href=\"#DejaVuSans-20\" x=\"354.296875\"/>\n     <use xlink:href=\"#DejaVuSans-66\" x=\"386.083984\"/>\n     <use xlink:href=\"#DejaVuSans-75\" x=\"421.289062\"/>\n     <use xlink:href=\"#DejaVuSans-6e\" x=\"484.667969\"/>\n     <use xlink:href=\"#DejaVuSans-63\" x=\"548.046875\"/>\n     <use xlink:href=\"#DejaVuSans-74\" x=\"603.027344\"/>\n     <use xlink:href=\"#DejaVuSans-69\" x=\"642.236328\"/>\n     <use xlink:href=\"#DejaVuSans-6f\" x=\"670.019531\"/>\n     <use xlink:href=\"#DejaVuSans-6e\" x=\"731.201172\"/>\n    </g>\n   </g>\n  </g>\n </g>\n <defs>\n  <clipPath id=\"p8c32927e1f\">\n   <rect x=\"45.716875\" y=\"22.318125\" width=\"279\" height=\"166.32\"/>\n  </clipPath>\n </defs>\n</svg>\n"
          },
          "metadata": {}
        }
      ],
      "source": [
        "# Plot the logistic function\n",
        "z = np.linspace(-8, 8, 100)\n",
        "fig, ax = plt.subplots(1, 1, figsize=(5, 3))\n",
        "ax.plot(z, logistic(z), 'b-')\n",
        "ax.set_xlabel('$z$', fontsize=12)\n",
        "ax.set_ylabel('$\\sigma(z)$', fontsize=12)\n",
        "ax.set_title('logistic function')\n",
        "ax.set_xlim(-8, 8)\n",
        "plt.show()\n",
        "#"
      ]
    },
    {
      "cell_type": "markdown",
      "metadata": {
        "id": "ZledD6Q3bley"
      },
      "source": [
        "### Derivative of the logistic function\n",
        "\n",
        "Since neural networks typically use [gradient](http://en.wikipedia.org/wiki/Gradient) based opimization techniques such as [gradient descent](http://en.wikipedia.org/wiki/Gradient_descent) it is important to define the [derivative](http://en.wikipedia.org/wiki/Derivative) of the output $y$ of the logistic function with respect to its input $z$. ${\\partial y}/{\\partial z}$ can be calculated as:\n",
        "\n",
        "$$\n",
        "\\frac{\\partial y}{\\partial z} = \\frac{\\partial \\sigma(z)}{\\partial z}\n",
        "= \\frac{\\partial \\frac{1}{1+e^{-z}}}{\\partial z}\n",
        "= \\frac{-1}{(1+e^{-z})^2} \\cdot e^{-z} \\cdot -1\n",
        "= \\frac{1}{1+e^{-z}} \\frac{e^{-z}}{1+e^{-z}}\n",
        "$$\n",
        "\n",
        "And since $1 - \\sigma(z)) = 1 - {1}/(1+e^{-z}) = {e^{-z}}/(1+e^{-z})$ this can be rewritten as:\n",
        "\n",
        "$$\n",
        "\\frac{\\partial y}{\\partial z}\n",
        "= \\frac{1}{1+e^{-z}} \\frac{e^{-z}}{1+e^{-z}}\n",
        "= \\sigma(z) \\cdot (1- \\sigma(z)) =  y (1-y)\n",
        "$$\n",
        "\n",
        "This derivative is implemented as `logistic_derivative(z)` and is plotted below."
      ]
    },
    {
      "cell_type": "code",
      "execution_count": 4,
      "metadata": {
        "id": "IgP5Bb7Kblez"
      },
      "outputs": [],
      "source": [
        "def logistic_derivative(z):\n",
        "    \"\"\"Derivative of the logistic function.\"\"\"\n",
        "    return logistic(z) * (1 - logistic(z))"
      ]
    },
    {
      "cell_type": "code",
      "execution_count": 5,
      "metadata": {
        "id": "p9uBPrl2ble0",
        "outputId": "473dfb04-1ba8-4913-bd64-f78bd734b6a4",
        "colab": {
          "base_uri": "https://localhost:8080/",
          "height": 325
        }
      },
      "outputs": [
        {
          "output_type": "display_data",
          "data": {
            "text/plain": [
              "<Figure size 500x300 with 1 Axes>"
            ],
            "image/svg+xml": "<?xml version=\"1.0\" encoding=\"utf-8\" standalone=\"no\"?>\n<!DOCTYPE svg PUBLIC \"-//W3C//DTD SVG 1.1//EN\"\n  \"http://www.w3.org/Graphics/SVG/1.1/DTD/svg11.dtd\">\n<svg xmlns:xlink=\"http://www.w3.org/1999/xlink\" width=\"346.886875pt\" height=\"228.13pt\" viewBox=\"0 0 346.886875 228.13\" xmlns=\"http://www.w3.org/2000/svg\" version=\"1.1\">\n <metadata>\n  <rdf:RDF xmlns:dc=\"http://purl.org/dc/elements/1.1/\" xmlns:cc=\"http://creativecommons.org/ns#\" xmlns:rdf=\"http://www.w3.org/1999/02/22-rdf-syntax-ns#\">\n   <cc:Work>\n    <dc:type rdf:resource=\"http://purl.org/dc/dcmitype/StillImage\"/>\n    <dc:date>2024-12-26T10:10:32.294441</dc:date>\n    <dc:format>image/svg+xml</dc:format>\n    <dc:creator>\n     <cc:Agent>\n      <dc:title>Matplotlib v3.8.0, https://matplotlib.org/</dc:title>\n     </cc:Agent>\n    </dc:creator>\n   </cc:Work>\n  </rdf:RDF>\n </metadata>\n <defs>\n  <style type=\"text/css\">*{stroke-linejoin: round; stroke-linecap: butt}</style>\n </defs>\n <g id=\"figure_1\">\n  <g id=\"patch_1\">\n   <path d=\"M 0 228.13 \nL 346.886875 228.13 \nL 346.886875 0 \nL 0 0 \nz\n\" style=\"fill: #ffffff\"/>\n  </g>\n  <g id=\"axes_1\">\n   <g id=\"patch_2\">\n    <path d=\"M 57.505625 188.638125 \nL 336.505625 188.638125 \nL 336.505625 22.318125 \nL 57.505625 22.318125 \nz\n\" style=\"fill: #eaeaf2\"/>\n   </g>\n   <g id=\"matplotlib.axis_1\">\n    <g id=\"xtick_1\">\n     <g id=\"line2d_1\">\n      <path d=\"M 57.505625 188.638125 \nL 57.505625 22.318125 \n\" clip-path=\"url(#p75acb16006)\" style=\"fill: none; stroke: #ffffff; stroke-width: 0.8; stroke-linecap: round\"/>\n     </g>\n     <g id=\"text_1\">\n      <!-- −8 -->\n      <g style=\"fill: #262626\" transform=\"translate(50.134531 203.236562) scale(0.1 -0.1)\">\n       <defs>\n        <path id=\"DejaVuSans-2212\" d=\"M 678 2272 \nL 4684 2272 \nL 4684 1741 \nL 678 1741 \nL 678 2272 \nz\n\" transform=\"scale(0.015625)\"/>\n        <path id=\"DejaVuSans-38\" d=\"M 2034 2216 \nQ 1584 2216 1326 1975 \nQ 1069 1734 1069 1313 \nQ 1069 891 1326 650 \nQ 1584 409 2034 409 \nQ 2484 409 2743 651 \nQ 3003 894 3003 1313 \nQ 3003 1734 2745 1975 \nQ 2488 2216 2034 2216 \nz\nM 1403 2484 \nQ 997 2584 770 2862 \nQ 544 3141 544 3541 \nQ 544 4100 942 4425 \nQ 1341 4750 2034 4750 \nQ 2731 4750 3128 4425 \nQ 3525 4100 3525 3541 \nQ 3525 3141 3298 2862 \nQ 3072 2584 2669 2484 \nQ 3125 2378 3379 2068 \nQ 3634 1759 3634 1313 \nQ 3634 634 3220 271 \nQ 2806 -91 2034 -91 \nQ 1263 -91 848 271 \nQ 434 634 434 1313 \nQ 434 1759 690 2068 \nQ 947 2378 1403 2484 \nz\nM 1172 3481 \nQ 1172 3119 1398 2916 \nQ 1625 2713 2034 2713 \nQ 2441 2713 2670 2916 \nQ 2900 3119 2900 3481 \nQ 2900 3844 2670 4047 \nQ 2441 4250 2034 4250 \nQ 1625 4250 1398 4047 \nQ 1172 3844 1172 3481 \nz\n\" transform=\"scale(0.015625)\"/>\n       </defs>\n       <use xlink:href=\"#DejaVuSans-2212\"/>\n       <use xlink:href=\"#DejaVuSans-38\" x=\"83.789062\"/>\n      </g>\n     </g>\n    </g>\n    <g id=\"xtick_2\">\n     <g id=\"line2d_2\">\n      <path d=\"M 92.380625 188.638125 \nL 92.380625 22.318125 \n\" clip-path=\"url(#p75acb16006)\" style=\"fill: none; stroke: #ffffff; stroke-width: 0.8; stroke-linecap: round\"/>\n     </g>\n     <g id=\"text_2\">\n      <!-- −6 -->\n      <g style=\"fill: #262626\" transform=\"translate(85.009531 203.236562) scale(0.1 -0.1)\">\n       <defs>\n        <path id=\"DejaVuSans-36\" d=\"M 2113 2584 \nQ 1688 2584 1439 2293 \nQ 1191 2003 1191 1497 \nQ 1191 994 1439 701 \nQ 1688 409 2113 409 \nQ 2538 409 2786 701 \nQ 3034 994 3034 1497 \nQ 3034 2003 2786 2293 \nQ 2538 2584 2113 2584 \nz\nM 3366 4563 \nL 3366 3988 \nQ 3128 4100 2886 4159 \nQ 2644 4219 2406 4219 \nQ 1781 4219 1451 3797 \nQ 1122 3375 1075 2522 \nQ 1259 2794 1537 2939 \nQ 1816 3084 2150 3084 \nQ 2853 3084 3261 2657 \nQ 3669 2231 3669 1497 \nQ 3669 778 3244 343 \nQ 2819 -91 2113 -91 \nQ 1303 -91 875 529 \nQ 447 1150 447 2328 \nQ 447 3434 972 4092 \nQ 1497 4750 2381 4750 \nQ 2619 4750 2861 4703 \nQ 3103 4656 3366 4563 \nz\n\" transform=\"scale(0.015625)\"/>\n       </defs>\n       <use xlink:href=\"#DejaVuSans-2212\"/>\n       <use xlink:href=\"#DejaVuSans-36\" x=\"83.789062\"/>\n      </g>\n     </g>\n    </g>\n    <g id=\"xtick_3\">\n     <g id=\"line2d_3\">\n      <path d=\"M 127.255625 188.638125 \nL 127.255625 22.318125 \n\" clip-path=\"url(#p75acb16006)\" style=\"fill: none; stroke: #ffffff; stroke-width: 0.8; stroke-linecap: round\"/>\n     </g>\n     <g id=\"text_3\">\n      <!-- −4 -->\n      <g style=\"fill: #262626\" transform=\"translate(119.884531 203.236562) scale(0.1 -0.1)\">\n       <defs>\n        <path id=\"DejaVuSans-34\" d=\"M 2419 4116 \nL 825 1625 \nL 2419 1625 \nL 2419 4116 \nz\nM 2253 4666 \nL 3047 4666 \nL 3047 1625 \nL 3713 1625 \nL 3713 1100 \nL 3047 1100 \nL 3047 0 \nL 2419 0 \nL 2419 1100 \nL 313 1100 \nL 313 1709 \nL 2253 4666 \nz\n\" transform=\"scale(0.015625)\"/>\n       </defs>\n       <use xlink:href=\"#DejaVuSans-2212\"/>\n       <use xlink:href=\"#DejaVuSans-34\" x=\"83.789062\"/>\n      </g>\n     </g>\n    </g>\n    <g id=\"xtick_4\">\n     <g id=\"line2d_4\">\n      <path d=\"M 162.130625 188.638125 \nL 162.130625 22.318125 \n\" clip-path=\"url(#p75acb16006)\" style=\"fill: none; stroke: #ffffff; stroke-width: 0.8; stroke-linecap: round\"/>\n     </g>\n     <g id=\"text_4\">\n      <!-- −2 -->\n      <g style=\"fill: #262626\" transform=\"translate(154.759531 203.236562) scale(0.1 -0.1)\">\n       <defs>\n        <path id=\"DejaVuSans-32\" d=\"M 1228 531 \nL 3431 531 \nL 3431 0 \nL 469 0 \nL 469 531 \nQ 828 903 1448 1529 \nQ 2069 2156 2228 2338 \nQ 2531 2678 2651 2914 \nQ 2772 3150 2772 3378 \nQ 2772 3750 2511 3984 \nQ 2250 4219 1831 4219 \nQ 1534 4219 1204 4116 \nQ 875 4013 500 3803 \nL 500 4441 \nQ 881 4594 1212 4672 \nQ 1544 4750 1819 4750 \nQ 2544 4750 2975 4387 \nQ 3406 4025 3406 3419 \nQ 3406 3131 3298 2873 \nQ 3191 2616 2906 2266 \nQ 2828 2175 2409 1742 \nQ 1991 1309 1228 531 \nz\n\" transform=\"scale(0.015625)\"/>\n       </defs>\n       <use xlink:href=\"#DejaVuSans-2212\"/>\n       <use xlink:href=\"#DejaVuSans-32\" x=\"83.789062\"/>\n      </g>\n     </g>\n    </g>\n    <g id=\"xtick_5\">\n     <g id=\"line2d_5\">\n      <path d=\"M 197.005625 188.638125 \nL 197.005625 22.318125 \n\" clip-path=\"url(#p75acb16006)\" style=\"fill: none; stroke: #ffffff; stroke-width: 0.8; stroke-linecap: round\"/>\n     </g>\n     <g id=\"text_5\">\n      <!-- 0 -->\n      <g style=\"fill: #262626\" transform=\"translate(193.824375 203.236562) scale(0.1 -0.1)\">\n       <defs>\n        <path id=\"DejaVuSans-30\" d=\"M 2034 4250 \nQ 1547 4250 1301 3770 \nQ 1056 3291 1056 2328 \nQ 1056 1369 1301 889 \nQ 1547 409 2034 409 \nQ 2525 409 2770 889 \nQ 3016 1369 3016 2328 \nQ 3016 3291 2770 3770 \nQ 2525 4250 2034 4250 \nz\nM 2034 4750 \nQ 2819 4750 3233 4129 \nQ 3647 3509 3647 2328 \nQ 3647 1150 3233 529 \nQ 2819 -91 2034 -91 \nQ 1250 -91 836 529 \nQ 422 1150 422 2328 \nQ 422 3509 836 4129 \nQ 1250 4750 2034 4750 \nz\n\" transform=\"scale(0.015625)\"/>\n       </defs>\n       <use xlink:href=\"#DejaVuSans-30\"/>\n      </g>\n     </g>\n    </g>\n    <g id=\"xtick_6\">\n     <g id=\"line2d_6\">\n      <path d=\"M 231.880625 188.638125 \nL 231.880625 22.318125 \n\" clip-path=\"url(#p75acb16006)\" style=\"fill: none; stroke: #ffffff; stroke-width: 0.8; stroke-linecap: round\"/>\n     </g>\n     <g id=\"text_6\">\n      <!-- 2 -->\n      <g style=\"fill: #262626\" transform=\"translate(228.699375 203.236562) scale(0.1 -0.1)\">\n       <use xlink:href=\"#DejaVuSans-32\"/>\n      </g>\n     </g>\n    </g>\n    <g id=\"xtick_7\">\n     <g id=\"line2d_7\">\n      <path d=\"M 266.755625 188.638125 \nL 266.755625 22.318125 \n\" clip-path=\"url(#p75acb16006)\" style=\"fill: none; stroke: #ffffff; stroke-width: 0.8; stroke-linecap: round\"/>\n     </g>\n     <g id=\"text_7\">\n      <!-- 4 -->\n      <g style=\"fill: #262626\" transform=\"translate(263.574375 203.236562) scale(0.1 -0.1)\">\n       <use xlink:href=\"#DejaVuSans-34\"/>\n      </g>\n     </g>\n    </g>\n    <g id=\"xtick_8\">\n     <g id=\"line2d_8\">\n      <path d=\"M 301.630625 188.638125 \nL 301.630625 22.318125 \n\" clip-path=\"url(#p75acb16006)\" style=\"fill: none; stroke: #ffffff; stroke-width: 0.8; stroke-linecap: round\"/>\n     </g>\n     <g id=\"text_8\">\n      <!-- 6 -->\n      <g style=\"fill: #262626\" transform=\"translate(298.449375 203.236562) scale(0.1 -0.1)\">\n       <use xlink:href=\"#DejaVuSans-36\"/>\n      </g>\n     </g>\n    </g>\n    <g id=\"xtick_9\">\n     <g id=\"line2d_9\">\n      <path d=\"M 336.505625 188.638125 \nL 336.505625 22.318125 \n\" clip-path=\"url(#p75acb16006)\" style=\"fill: none; stroke: #ffffff; stroke-width: 0.8; stroke-linecap: round\"/>\n     </g>\n     <g id=\"text_9\">\n      <!-- 8 -->\n      <g style=\"fill: #262626\" transform=\"translate(333.324375 203.236562) scale(0.1 -0.1)\">\n       <use xlink:href=\"#DejaVuSans-38\"/>\n      </g>\n     </g>\n    </g>\n    <g id=\"text_10\">\n     <!-- $z$ -->\n     <g style=\"fill: #262626\" transform=\"translate(193.825625 218.434375) scale(0.12 -0.12)\">\n      <defs>\n       <path id=\"DejaVuSans-Oblique-7a\" d=\"M 744 3500 \nL 3475 3500 \nL 3372 2975 \nL 738 459 \nL 2913 459 \nL 2822 0 \nL -19 0 \nL 84 525 \nL 2719 3041 \nL 653 3041 \nL 744 3500 \nz\n\" transform=\"scale(0.015625)\"/>\n      </defs>\n      <use xlink:href=\"#DejaVuSans-Oblique-7a\" transform=\"translate(0 0.3125)\"/>\n     </g>\n    </g>\n   </g>\n   <g id=\"matplotlib.axis_2\">\n    <g id=\"ytick_1\">\n     <g id=\"line2d_10\">\n      <path d=\"M 57.505625 181.281481 \nL 336.505625 181.281481 \n\" clip-path=\"url(#p75acb16006)\" style=\"fill: none; stroke: #ffffff; stroke-width: 0.8; stroke-linecap: round\"/>\n     </g>\n     <g id=\"text_11\">\n      <!-- 0.00 -->\n      <g style=\"fill: #262626\" transform=\"translate(28.24 185.0807) scale(0.1 -0.1)\">\n       <defs>\n        <path id=\"DejaVuSans-2e\" d=\"M 684 794 \nL 1344 794 \nL 1344 0 \nL 684 0 \nL 684 794 \nz\n\" transform=\"scale(0.015625)\"/>\n       </defs>\n       <use xlink:href=\"#DejaVuSans-30\"/>\n       <use xlink:href=\"#DejaVuSans-2e\" x=\"63.623047\"/>\n       <use xlink:href=\"#DejaVuSans-30\" x=\"95.410156\"/>\n       <use xlink:href=\"#DejaVuSans-30\" x=\"159.033203\"/>\n      </g>\n     </g>\n    </g>\n    <g id=\"ytick_2\">\n     <g id=\"line2d_11\">\n      <path d=\"M 57.505625 150.95135 \nL 336.505625 150.95135 \n\" clip-path=\"url(#p75acb16006)\" style=\"fill: none; stroke: #ffffff; stroke-width: 0.8; stroke-linecap: round\"/>\n     </g>\n     <g id=\"text_12\">\n      <!-- 0.05 -->\n      <g style=\"fill: #262626\" transform=\"translate(28.24 154.750569) scale(0.1 -0.1)\">\n       <defs>\n        <path id=\"DejaVuSans-35\" d=\"M 691 4666 \nL 3169 4666 \nL 3169 4134 \nL 1269 4134 \nL 1269 2991 \nQ 1406 3038 1543 3061 \nQ 1681 3084 1819 3084 \nQ 2600 3084 3056 2656 \nQ 3513 2228 3513 1497 \nQ 3513 744 3044 326 \nQ 2575 -91 1722 -91 \nQ 1428 -91 1123 -41 \nQ 819 9 494 109 \nL 494 744 \nQ 775 591 1075 516 \nQ 1375 441 1709 441 \nQ 2250 441 2565 725 \nQ 2881 1009 2881 1497 \nQ 2881 1984 2565 2268 \nQ 2250 2553 1709 2553 \nQ 1456 2553 1204 2497 \nQ 953 2441 691 2322 \nL 691 4666 \nz\n\" transform=\"scale(0.015625)\"/>\n       </defs>\n       <use xlink:href=\"#DejaVuSans-30\"/>\n       <use xlink:href=\"#DejaVuSans-2e\" x=\"63.623047\"/>\n       <use xlink:href=\"#DejaVuSans-30\" x=\"95.410156\"/>\n       <use xlink:href=\"#DejaVuSans-35\" x=\"159.033203\"/>\n      </g>\n     </g>\n    </g>\n    <g id=\"ytick_3\">\n     <g id=\"line2d_12\">\n      <path d=\"M 57.505625 120.621219 \nL 336.505625 120.621219 \n\" clip-path=\"url(#p75acb16006)\" style=\"fill: none; stroke: #ffffff; stroke-width: 0.8; stroke-linecap: round\"/>\n     </g>\n     <g id=\"text_13\">\n      <!-- 0.10 -->\n      <g style=\"fill: #262626\" transform=\"translate(28.24 124.420438) scale(0.1 -0.1)\">\n       <defs>\n        <path id=\"DejaVuSans-31\" d=\"M 794 531 \nL 1825 531 \nL 1825 4091 \nL 703 3866 \nL 703 4441 \nL 1819 4666 \nL 2450 4666 \nL 2450 531 \nL 3481 531 \nL 3481 0 \nL 794 0 \nL 794 531 \nz\n\" transform=\"scale(0.015625)\"/>\n       </defs>\n       <use xlink:href=\"#DejaVuSans-30\"/>\n       <use xlink:href=\"#DejaVuSans-2e\" x=\"63.623047\"/>\n       <use xlink:href=\"#DejaVuSans-31\" x=\"95.410156\"/>\n       <use xlink:href=\"#DejaVuSans-30\" x=\"159.033203\"/>\n      </g>\n     </g>\n    </g>\n    <g id=\"ytick_4\">\n     <g id=\"line2d_13\">\n      <path d=\"M 57.505625 90.291088 \nL 336.505625 90.291088 \n\" clip-path=\"url(#p75acb16006)\" style=\"fill: none; stroke: #ffffff; stroke-width: 0.8; stroke-linecap: round\"/>\n     </g>\n     <g id=\"text_14\">\n      <!-- 0.15 -->\n      <g style=\"fill: #262626\" transform=\"translate(28.24 94.090307) scale(0.1 -0.1)\">\n       <use xlink:href=\"#DejaVuSans-30\"/>\n       <use xlink:href=\"#DejaVuSans-2e\" x=\"63.623047\"/>\n       <use xlink:href=\"#DejaVuSans-31\" x=\"95.410156\"/>\n       <use xlink:href=\"#DejaVuSans-35\" x=\"159.033203\"/>\n      </g>\n     </g>\n    </g>\n    <g id=\"ytick_5\">\n     <g id=\"line2d_14\">\n      <path d=\"M 57.505625 59.960957 \nL 336.505625 59.960957 \n\" clip-path=\"url(#p75acb16006)\" style=\"fill: none; stroke: #ffffff; stroke-width: 0.8; stroke-linecap: round\"/>\n     </g>\n     <g id=\"text_15\">\n      <!-- 0.20 -->\n      <g style=\"fill: #262626\" transform=\"translate(28.24 63.760176) scale(0.1 -0.1)\">\n       <use xlink:href=\"#DejaVuSans-30\"/>\n       <use xlink:href=\"#DejaVuSans-2e\" x=\"63.623047\"/>\n       <use xlink:href=\"#DejaVuSans-32\" x=\"95.410156\"/>\n       <use xlink:href=\"#DejaVuSans-30\" x=\"159.033203\"/>\n      </g>\n     </g>\n    </g>\n    <g id=\"ytick_6\">\n     <g id=\"line2d_15\">\n      <path d=\"M 57.505625 29.630827 \nL 336.505625 29.630827 \n\" clip-path=\"url(#p75acb16006)\" style=\"fill: none; stroke: #ffffff; stroke-width: 0.8; stroke-linecap: round\"/>\n     </g>\n     <g id=\"text_16\">\n      <!-- 0.25 -->\n      <g style=\"fill: #262626\" transform=\"translate(28.24 33.430045) scale(0.1 -0.1)\">\n       <use xlink:href=\"#DejaVuSans-30\"/>\n       <use xlink:href=\"#DejaVuSans-2e\" x=\"63.623047\"/>\n       <use xlink:href=\"#DejaVuSans-32\" x=\"95.410156\"/>\n       <use xlink:href=\"#DejaVuSans-35\" x=\"159.033203\"/>\n      </g>\n     </g>\n    </g>\n    <g id=\"text_17\">\n     <!-- $\\frac{\\partial \\sigma(z)}{\\partial z}$ -->\n     <g style=\"fill: #262626\" transform=\"translate(20.04 116.578125) rotate(-90) scale(0.12 -0.12)\">\n      <defs>\n       <path id=\"DejaVuSans-2202\" d=\"M 1366 -91 \nQ 925 -91 638 175 \nQ 297 491 297 1063 \nQ 297 1656 597 2119 \nQ 906 2594 1463 2594 \nQ 1828 2594 2116 2366 \nQ 2284 2231 2400 2006 \nQ 2441 2259 2441 2547 \nQ 2441 2969 2341 3213 \nQ 2119 3753 1531 3753 \nQ 1309 3753 966 3616 \nL 966 4141 \nQ 1328 4238 1653 4238 \nQ 2491 4238 2847 3469 \nQ 3013 3106 3013 2566 \nQ 3013 2213 2934 1803 \nQ 2738 778 2228 291 \nQ 1828 -91 1366 -91 \nz\nM 831 969 \nQ 831 656 969 488 \nQ 1116 309 1341 309 \nQ 1541 309 1700 450 \nQ 1925 644 2091 959 \nQ 2228 1219 2297 1497 \nQ 2019 2169 1538 2169 \nQ 1125 2169 944 1625 \nQ 831 1288 831 969 \nz\n\" transform=\"scale(0.015625)\"/>\n       <path id=\"DejaVuSans-Oblique-3c3\" d=\"M 2219 3044 \nQ 1744 3044 1422 2700 \nQ 1081 2341 969 1747 \nQ 844 1119 1044 756 \nQ 1241 397 1706 397 \nQ 2166 397 2503 759 \nQ 2844 1122 2966 1747 \nQ 3075 2319 2881 2700 \nQ 2700 3044 2219 3044 \nz\nM 2309 3503 \nL 4219 3500 \nL 4106 2925 \nL 3463 2925 \nQ 3706 2438 3575 1747 \nQ 3406 888 2884 400 \nQ 2359 -91 1609 -91 \nQ 856 -91 525 400 \nQ 194 888 363 1747 \nQ 528 2609 1050 3097 \nQ 1484 3503 2309 3503 \nz\n\" transform=\"scale(0.015625)\"/>\n       <path id=\"DejaVuSans-28\" d=\"M 1984 4856 \nQ 1566 4138 1362 3434 \nQ 1159 2731 1159 2009 \nQ 1159 1288 1364 580 \nQ 1569 -128 1984 -844 \nL 1484 -844 \nQ 1016 -109 783 600 \nQ 550 1309 550 2009 \nQ 550 2706 781 3412 \nQ 1013 4119 1484 4856 \nL 1984 4856 \nz\n\" transform=\"scale(0.015625)\"/>\n       <path id=\"DejaVuSans-29\" d=\"M 513 4856 \nL 1013 4856 \nQ 1481 4119 1714 3412 \nQ 1947 2706 1947 2009 \nQ 1947 1309 1714 600 \nQ 1481 -109 1013 -844 \nL 513 -844 \nQ 928 -128 1133 580 \nQ 1338 1288 1338 2009 \nQ 1338 2731 1133 3434 \nQ 928 4138 513 4856 \nz\n\" transform=\"scale(0.015625)\"/>\n      </defs>\n      <use xlink:href=\"#DejaVuSans-2202\" transform=\"translate(0 53.8875) scale(0.7)\"/>\n      <use xlink:href=\"#DejaVuSans-Oblique-3c3\" transform=\"translate(36.196289 53.8875) scale(0.7)\"/>\n      <use xlink:href=\"#DejaVuSans-28\" transform=\"translate(80.561523 53.8875) scale(0.7)\"/>\n      <use xlink:href=\"#DejaVuSans-Oblique-7a\" transform=\"translate(107.871094 53.8875) scale(0.7)\"/>\n      <use xlink:href=\"#DejaVuSans-29\" transform=\"translate(144.614258 53.8875) scale(0.7)\"/>\n      <use xlink:href=\"#DejaVuSans-2202\" transform=\"translate(49 -32.946875) scale(0.7)\"/>\n      <use xlink:href=\"#DejaVuSans-Oblique-7a\" transform=\"translate(85.196289 -32.946875) scale(0.7)\"/>\n      <path d=\"M 0 19.65625 \nL 0 25.90625 \nL 171.923828 25.90625 \nL 171.923828 19.65625 \nL 0 19.65625 \nz\n\"/>\n     </g>\n    </g>\n   </g>\n   <g id=\"line2d_16\">\n    <path d=\"M 57.505625 181.078125 \nL 60.323807 181.042483 \nL 63.141989 181.000599 \nL 65.96017 180.951383 \nL 68.778352 180.893555 \nL 71.596534 180.825612 \nL 74.414716 180.74579 \nL 77.232898 180.65202 \nL 80.05108 180.541877 \nL 82.869261 180.412516 \nL 85.687443 180.260605 \nL 88.505625 180.082244 \nL 91.323807 179.872866 \nL 94.141989 179.627133 \nL 96.96017 179.33881 \nL 99.778352 179.000619 \nL 102.596534 178.604082 \nL 105.414716 178.139331 \nL 108.232898 177.594907 \nL 111.05108 176.957529 \nL 113.869261 176.211846 \nL 116.687443 175.340167 \nL 119.505625 174.32218 \nL 122.323807 173.134664 \nL 125.141989 171.751216 \nL 127.96017 170.142002 \nL 130.778352 168.273577 \nL 133.596534 166.108799 \nL 136.414716 163.606911 \nL 139.232898 160.723847 \nL 142.05108 157.412866 \nL 144.869261 153.625625 \nL 147.687443 149.313809 \nL 150.505625 144.431478 \nL 153.323807 138.938258 \nL 156.141989 132.803487 \nL 158.96017 126.011387 \nL 161.778352 118.567179 \nL 164.596534 110.503938 \nL 167.414716 101.889704 \nL 170.232898 92.834121 \nL 173.05108 83.493532 \nL 175.869261 74.073231 \nL 178.687443 64.82546 \nL 181.505625 56.041904 \nL 184.323807 48.039946 \nL 187.141989 41.142878 \nL 189.96017 35.655435 \nL 192.778352 31.837292 \nL 195.596534 29.878125 \nL 198.414716 29.878125 \nL 201.232898 31.837292 \nL 204.05108 35.655435 \nL 206.869261 41.142878 \nL 209.687443 48.039946 \nL 212.505625 56.041904 \nL 215.323807 64.82546 \nL 218.141989 74.073231 \nL 220.96017 83.493532 \nL 223.778352 92.834121 \nL 226.596534 101.889704 \nL 229.414716 110.503938 \nL 232.232898 118.567179 \nL 235.05108 126.011387 \nL 237.869261 132.803487 \nL 240.687443 138.938258 \nL 243.505625 144.431478 \nL 246.323807 149.313809 \nL 249.141989 153.625625 \nL 251.96017 157.412866 \nL 254.778352 160.723847 \nL 257.596534 163.606911 \nL 260.414716 166.108799 \nL 263.232898 168.273577 \nL 266.05108 170.142002 \nL 268.869261 171.751216 \nL 271.687443 173.134664 \nL 274.505625 174.32218 \nL 277.323807 175.340167 \nL 280.141989 176.211846 \nL 282.96017 176.957529 \nL 285.778352 177.594907 \nL 288.596534 178.139331 \nL 291.414716 178.604082 \nL 294.232898 179.000619 \nL 297.05108 179.33881 \nL 299.869261 179.627133 \nL 302.687443 179.872866 \nL 305.505625 180.082244 \nL 308.323807 180.260605 \nL 311.141989 180.412516 \nL 313.96017 180.541877 \nL 316.778352 180.65202 \nL 319.596534 180.74579 \nL 322.414716 180.825612 \nL 325.232898 180.893555 \nL 328.05108 180.951383 \nL 330.869261 181.000599 \nL 333.687443 181.042483 \nL 336.505625 181.078125 \n\" clip-path=\"url(#p75acb16006)\" style=\"fill: none; stroke: #ff0000; stroke-width: 1.5; stroke-linecap: round\"/>\n   </g>\n   <g id=\"patch_3\">\n    <path d=\"M 57.505625 188.638125 \nL 57.505625 22.318125 \n\" style=\"fill: none; stroke: #ffffff; stroke-width: 0.8; stroke-linejoin: miter; stroke-linecap: square\"/>\n   </g>\n   <g id=\"patch_4\">\n    <path d=\"M 336.505625 188.638125 \nL 336.505625 22.318125 \n\" style=\"fill: none; stroke: #ffffff; stroke-width: 0.8; stroke-linejoin: miter; stroke-linecap: square\"/>\n   </g>\n   <g id=\"patch_5\">\n    <path d=\"M 57.505625 188.638125 \nL 336.505625 188.638125 \n\" style=\"fill: none; stroke: #ffffff; stroke-width: 0.8; stroke-linejoin: miter; stroke-linecap: square\"/>\n   </g>\n   <g id=\"patch_6\">\n    <path d=\"M 57.505625 22.318125 \nL 336.505625 22.318125 \n\" style=\"fill: none; stroke: #ffffff; stroke-width: 0.8; stroke-linejoin: miter; stroke-linecap: square\"/>\n   </g>\n   <g id=\"text_18\">\n    <!-- derivative of the logistic function -->\n    <g style=\"fill: #262626\" transform=\"translate(97.856563 16.318125) scale(0.12 -0.12)\">\n     <defs>\n      <path id=\"DejaVuSans-64\" d=\"M 2906 2969 \nL 2906 4863 \nL 3481 4863 \nL 3481 0 \nL 2906 0 \nL 2906 525 \nQ 2725 213 2448 61 \nQ 2172 -91 1784 -91 \nQ 1150 -91 751 415 \nQ 353 922 353 1747 \nQ 353 2572 751 3078 \nQ 1150 3584 1784 3584 \nQ 2172 3584 2448 3432 \nQ 2725 3281 2906 2969 \nz\nM 947 1747 \nQ 947 1113 1208 752 \nQ 1469 391 1925 391 \nQ 2381 391 2643 752 \nQ 2906 1113 2906 1747 \nQ 2906 2381 2643 2742 \nQ 2381 3103 1925 3103 \nQ 1469 3103 1208 2742 \nQ 947 2381 947 1747 \nz\n\" transform=\"scale(0.015625)\"/>\n      <path id=\"DejaVuSans-65\" d=\"M 3597 1894 \nL 3597 1613 \nL 953 1613 \nQ 991 1019 1311 708 \nQ 1631 397 2203 397 \nQ 2534 397 2845 478 \nQ 3156 559 3463 722 \nL 3463 178 \nQ 3153 47 2828 -22 \nQ 2503 -91 2169 -91 \nQ 1331 -91 842 396 \nQ 353 884 353 1716 \nQ 353 2575 817 3079 \nQ 1281 3584 2069 3584 \nQ 2775 3584 3186 3129 \nQ 3597 2675 3597 1894 \nz\nM 3022 2063 \nQ 3016 2534 2758 2815 \nQ 2500 3097 2075 3097 \nQ 1594 3097 1305 2825 \nQ 1016 2553 972 2059 \nL 3022 2063 \nz\n\" transform=\"scale(0.015625)\"/>\n      <path id=\"DejaVuSans-72\" d=\"M 2631 2963 \nQ 2534 3019 2420 3045 \nQ 2306 3072 2169 3072 \nQ 1681 3072 1420 2755 \nQ 1159 2438 1159 1844 \nL 1159 0 \nL 581 0 \nL 581 3500 \nL 1159 3500 \nL 1159 2956 \nQ 1341 3275 1631 3429 \nQ 1922 3584 2338 3584 \nQ 2397 3584 2469 3576 \nQ 2541 3569 2628 3553 \nL 2631 2963 \nz\n\" transform=\"scale(0.015625)\"/>\n      <path id=\"DejaVuSans-69\" d=\"M 603 3500 \nL 1178 3500 \nL 1178 0 \nL 603 0 \nL 603 3500 \nz\nM 603 4863 \nL 1178 4863 \nL 1178 4134 \nL 603 4134 \nL 603 4863 \nz\n\" transform=\"scale(0.015625)\"/>\n      <path id=\"DejaVuSans-76\" d=\"M 191 3500 \nL 800 3500 \nL 1894 563 \nL 2988 3500 \nL 3597 3500 \nL 2284 0 \nL 1503 0 \nL 191 3500 \nz\n\" transform=\"scale(0.015625)\"/>\n      <path id=\"DejaVuSans-61\" d=\"M 2194 1759 \nQ 1497 1759 1228 1600 \nQ 959 1441 959 1056 \nQ 959 750 1161 570 \nQ 1363 391 1709 391 \nQ 2188 391 2477 730 \nQ 2766 1069 2766 1631 \nL 2766 1759 \nL 2194 1759 \nz\nM 3341 1997 \nL 3341 0 \nL 2766 0 \nL 2766 531 \nQ 2569 213 2275 61 \nQ 1981 -91 1556 -91 \nQ 1019 -91 701 211 \nQ 384 513 384 1019 \nQ 384 1609 779 1909 \nQ 1175 2209 1959 2209 \nL 2766 2209 \nL 2766 2266 \nQ 2766 2663 2505 2880 \nQ 2244 3097 1772 3097 \nQ 1472 3097 1187 3025 \nQ 903 2953 641 2809 \nL 641 3341 \nQ 956 3463 1253 3523 \nQ 1550 3584 1831 3584 \nQ 2591 3584 2966 3190 \nQ 3341 2797 3341 1997 \nz\n\" transform=\"scale(0.015625)\"/>\n      <path id=\"DejaVuSans-74\" d=\"M 1172 4494 \nL 1172 3500 \nL 2356 3500 \nL 2356 3053 \nL 1172 3053 \nL 1172 1153 \nQ 1172 725 1289 603 \nQ 1406 481 1766 481 \nL 2356 481 \nL 2356 0 \nL 1766 0 \nQ 1100 0 847 248 \nQ 594 497 594 1153 \nL 594 3053 \nL 172 3053 \nL 172 3500 \nL 594 3500 \nL 594 4494 \nL 1172 4494 \nz\n\" transform=\"scale(0.015625)\"/>\n      <path id=\"DejaVuSans-20\" transform=\"scale(0.015625)\"/>\n      <path id=\"DejaVuSans-6f\" d=\"M 1959 3097 \nQ 1497 3097 1228 2736 \nQ 959 2375 959 1747 \nQ 959 1119 1226 758 \nQ 1494 397 1959 397 \nQ 2419 397 2687 759 \nQ 2956 1122 2956 1747 \nQ 2956 2369 2687 2733 \nQ 2419 3097 1959 3097 \nz\nM 1959 3584 \nQ 2709 3584 3137 3096 \nQ 3566 2609 3566 1747 \nQ 3566 888 3137 398 \nQ 2709 -91 1959 -91 \nQ 1206 -91 779 398 \nQ 353 888 353 1747 \nQ 353 2609 779 3096 \nQ 1206 3584 1959 3584 \nz\n\" transform=\"scale(0.015625)\"/>\n      <path id=\"DejaVuSans-66\" d=\"M 2375 4863 \nL 2375 4384 \nL 1825 4384 \nQ 1516 4384 1395 4259 \nQ 1275 4134 1275 3809 \nL 1275 3500 \nL 2222 3500 \nL 2222 3053 \nL 1275 3053 \nL 1275 0 \nL 697 0 \nL 697 3053 \nL 147 3053 \nL 147 3500 \nL 697 3500 \nL 697 3744 \nQ 697 4328 969 4595 \nQ 1241 4863 1831 4863 \nL 2375 4863 \nz\n\" transform=\"scale(0.015625)\"/>\n      <path id=\"DejaVuSans-68\" d=\"M 3513 2113 \nL 3513 0 \nL 2938 0 \nL 2938 2094 \nQ 2938 2591 2744 2837 \nQ 2550 3084 2163 3084 \nQ 1697 3084 1428 2787 \nQ 1159 2491 1159 1978 \nL 1159 0 \nL 581 0 \nL 581 4863 \nL 1159 4863 \nL 1159 2956 \nQ 1366 3272 1645 3428 \nQ 1925 3584 2291 3584 \nQ 2894 3584 3203 3211 \nQ 3513 2838 3513 2113 \nz\n\" transform=\"scale(0.015625)\"/>\n      <path id=\"DejaVuSans-6c\" d=\"M 603 4863 \nL 1178 4863 \nL 1178 0 \nL 603 0 \nL 603 4863 \nz\n\" transform=\"scale(0.015625)\"/>\n      <path id=\"DejaVuSans-67\" d=\"M 2906 1791 \nQ 2906 2416 2648 2759 \nQ 2391 3103 1925 3103 \nQ 1463 3103 1205 2759 \nQ 947 2416 947 1791 \nQ 947 1169 1205 825 \nQ 1463 481 1925 481 \nQ 2391 481 2648 825 \nQ 2906 1169 2906 1791 \nz\nM 3481 434 \nQ 3481 -459 3084 -895 \nQ 2688 -1331 1869 -1331 \nQ 1566 -1331 1297 -1286 \nQ 1028 -1241 775 -1147 \nL 775 -588 \nQ 1028 -725 1275 -790 \nQ 1522 -856 1778 -856 \nQ 2344 -856 2625 -561 \nQ 2906 -266 2906 331 \nL 2906 616 \nQ 2728 306 2450 153 \nQ 2172 0 1784 0 \nQ 1141 0 747 490 \nQ 353 981 353 1791 \nQ 353 2603 747 3093 \nQ 1141 3584 1784 3584 \nQ 2172 3584 2450 3431 \nQ 2728 3278 2906 2969 \nL 2906 3500 \nL 3481 3500 \nL 3481 434 \nz\n\" transform=\"scale(0.015625)\"/>\n      <path id=\"DejaVuSans-73\" d=\"M 2834 3397 \nL 2834 2853 \nQ 2591 2978 2328 3040 \nQ 2066 3103 1784 3103 \nQ 1356 3103 1142 2972 \nQ 928 2841 928 2578 \nQ 928 2378 1081 2264 \nQ 1234 2150 1697 2047 \nL 1894 2003 \nQ 2506 1872 2764 1633 \nQ 3022 1394 3022 966 \nQ 3022 478 2636 193 \nQ 2250 -91 1575 -91 \nQ 1294 -91 989 -36 \nQ 684 19 347 128 \nL 347 722 \nQ 666 556 975 473 \nQ 1284 391 1588 391 \nQ 1994 391 2212 530 \nQ 2431 669 2431 922 \nQ 2431 1156 2273 1281 \nQ 2116 1406 1581 1522 \nL 1381 1569 \nQ 847 1681 609 1914 \nQ 372 2147 372 2553 \nQ 372 3047 722 3315 \nQ 1072 3584 1716 3584 \nQ 2034 3584 2315 3537 \nQ 2597 3491 2834 3397 \nz\n\" transform=\"scale(0.015625)\"/>\n      <path id=\"DejaVuSans-63\" d=\"M 3122 3366 \nL 3122 2828 \nQ 2878 2963 2633 3030 \nQ 2388 3097 2138 3097 \nQ 1578 3097 1268 2742 \nQ 959 2388 959 1747 \nQ 959 1106 1268 751 \nQ 1578 397 2138 397 \nQ 2388 397 2633 464 \nQ 2878 531 3122 666 \nL 3122 134 \nQ 2881 22 2623 -34 \nQ 2366 -91 2075 -91 \nQ 1284 -91 818 406 \nQ 353 903 353 1747 \nQ 353 2603 823 3093 \nQ 1294 3584 2113 3584 \nQ 2378 3584 2631 3529 \nQ 2884 3475 3122 3366 \nz\n\" transform=\"scale(0.015625)\"/>\n      <path id=\"DejaVuSans-75\" d=\"M 544 1381 \nL 544 3500 \nL 1119 3500 \nL 1119 1403 \nQ 1119 906 1312 657 \nQ 1506 409 1894 409 \nQ 2359 409 2629 706 \nQ 2900 1003 2900 1516 \nL 2900 3500 \nL 3475 3500 \nL 3475 0 \nL 2900 0 \nL 2900 538 \nQ 2691 219 2414 64 \nQ 2138 -91 1772 -91 \nQ 1169 -91 856 284 \nQ 544 659 544 1381 \nz\nM 1991 3584 \nL 1991 3584 \nz\n\" transform=\"scale(0.015625)\"/>\n      <path id=\"DejaVuSans-6e\" d=\"M 3513 2113 \nL 3513 0 \nL 2938 0 \nL 2938 2094 \nQ 2938 2591 2744 2837 \nQ 2550 3084 2163 3084 \nQ 1697 3084 1428 2787 \nQ 1159 2491 1159 1978 \nL 1159 0 \nL 581 0 \nL 581 3500 \nL 1159 3500 \nL 1159 2956 \nQ 1366 3272 1645 3428 \nQ 1925 3584 2291 3584 \nQ 2894 3584 3203 3211 \nQ 3513 2838 3513 2113 \nz\n\" transform=\"scale(0.015625)\"/>\n     </defs>\n     <use xlink:href=\"#DejaVuSans-64\"/>\n     <use xlink:href=\"#DejaVuSans-65\" x=\"63.476562\"/>\n     <use xlink:href=\"#DejaVuSans-72\" x=\"125\"/>\n     <use xlink:href=\"#DejaVuSans-69\" x=\"166.113281\"/>\n     <use xlink:href=\"#DejaVuSans-76\" x=\"193.896484\"/>\n     <use xlink:href=\"#DejaVuSans-61\" x=\"253.076172\"/>\n     <use xlink:href=\"#DejaVuSans-74\" x=\"314.355469\"/>\n     <use xlink:href=\"#DejaVuSans-69\" x=\"353.564453\"/>\n     <use xlink:href=\"#DejaVuSans-76\" x=\"381.347656\"/>\n     <use xlink:href=\"#DejaVuSans-65\" x=\"440.527344\"/>\n     <use xlink:href=\"#DejaVuSans-20\" x=\"502.050781\"/>\n     <use xlink:href=\"#DejaVuSans-6f\" x=\"533.837891\"/>\n     <use xlink:href=\"#DejaVuSans-66\" x=\"595.019531\"/>\n     <use xlink:href=\"#DejaVuSans-20\" x=\"630.224609\"/>\n     <use xlink:href=\"#DejaVuSans-74\" x=\"662.011719\"/>\n     <use xlink:href=\"#DejaVuSans-68\" x=\"701.220703\"/>\n     <use xlink:href=\"#DejaVuSans-65\" x=\"764.599609\"/>\n     <use xlink:href=\"#DejaVuSans-20\" x=\"826.123047\"/>\n     <use xlink:href=\"#DejaVuSans-6c\" x=\"857.910156\"/>\n     <use xlink:href=\"#DejaVuSans-6f\" x=\"885.693359\"/>\n     <use xlink:href=\"#DejaVuSans-67\" x=\"946.875\"/>\n     <use xlink:href=\"#DejaVuSans-69\" x=\"1010.351562\"/>\n     <use xlink:href=\"#DejaVuSans-73\" x=\"1038.134766\"/>\n     <use xlink:href=\"#DejaVuSans-74\" x=\"1090.234375\"/>\n     <use xlink:href=\"#DejaVuSans-69\" x=\"1129.443359\"/>\n     <use xlink:href=\"#DejaVuSans-63\" x=\"1157.226562\"/>\n     <use xlink:href=\"#DejaVuSans-20\" x=\"1212.207031\"/>\n     <use xlink:href=\"#DejaVuSans-66\" x=\"1243.994141\"/>\n     <use xlink:href=\"#DejaVuSans-75\" x=\"1279.199219\"/>\n     <use xlink:href=\"#DejaVuSans-6e\" x=\"1342.578125\"/>\n     <use xlink:href=\"#DejaVuSans-63\" x=\"1405.957031\"/>\n     <use xlink:href=\"#DejaVuSans-74\" x=\"1460.9375\"/>\n     <use xlink:href=\"#DejaVuSans-69\" x=\"1500.146484\"/>\n     <use xlink:href=\"#DejaVuSans-6f\" x=\"1527.929688\"/>\n     <use xlink:href=\"#DejaVuSans-6e\" x=\"1589.111328\"/>\n    </g>\n   </g>\n  </g>\n </g>\n <defs>\n  <clipPath id=\"p75acb16006\">\n   <rect x=\"57.505625\" y=\"22.318125\" width=\"279\" height=\"166.32\"/>\n  </clipPath>\n </defs>\n</svg>\n"
          },
          "metadata": {}
        }
      ],
      "source": [
        "# Plot the derivative of the logistic function\n",
        "z = np.linspace(-8, 8, 100)\n",
        "fig, ax = plt.subplots(1, 1, figsize=(5, 3))\n",
        "ax.plot(z, logistic_derivative(z), 'r-')\n",
        "ax.set_xlabel('$z$', fontsize=12)\n",
        "ax.set_ylabel('$\\\\frac{\\\\partial \\\\sigma(z)}{\\\\partial z}$', fontsize=12)\n",
        "ax.set_title('derivative of the logistic function')\n",
        "ax.set_xlim(-8, 8)\n",
        "plt.show()\n",
        "#"
      ]
    },
    {
      "cell_type": "markdown",
      "metadata": {
        "id": "VIxpoB1hble0"
      },
      "source": [
        "### Cross-entropy loss function for the logistic function\n",
        "\n",
        "The output of the model $y = \\sigma(z)$ can be interpreted as a probability $y$ that input $z$ belongs to one class $(t=1)$, or probability $1-y$ that $z$ belongs to the other class $(t=0)$ in a two class classification problem. We note this down as: $P(t=1| z) = \\sigma(z) = y$.\n",
        "\n",
        "The neural network model will be optimized by maximizing the [likelihood](http://en.wikipedia.org/wiki/Likelihood_function) that a given set of parameters $\\theta$ of the model can result in a prediction of the correct class of each input sample. The parameters $\\theta$ transform each input sample $i$ into an input to the logistic function $z_{i}$. The likelihood maximization can be written as:\n",
        "\n",
        "$$\n",
        "\\underset{\\theta}{\\text{argmax}}\\; \\mathcal{L}(\\theta|t,z) = \\underset{\\theta}{\\text{argmax}} \\prod_{i=1}^{n} \\mathcal{L}(\\theta|t_i,z_i)\n",
        "$$\n",
        "\n",
        "The likelihood $\\mathcal{L}(\\theta|t,z)$ can be rewritten as the [joint probability](http://en.wikipedia.org/wiki/Joint_probability_distribution) of generating $t$ and $z$ given the parameters $\\theta$: $P(t,z|\\theta)$. Since $P(A,B) = P(A|B)P(B)$ this can be written as:\n",
        "\n",
        "$$\n",
        "P(t,z|\\theta) = P(t|z,\\theta)P(z|\\theta)\n",
        "$$\n",
        "\n",
        "Since we are not interested in the probability of $z$ we can reduce this to: $\\mathcal{L}(\\theta|t,z) = P(t|z,\\theta) = \\prod_{i=1}^{n} P(t_i|z_i,\\theta)$.\n",
        "Since $t_i$ is a [Bernoulli variable](http://en.wikipedia.org/wiki/Bernoulli_distribution), and the probability $P(t| z) = y$ is fixed for a given $\\theta$ we can rewrite this as:\n",
        "\n",
        "$$\n",
        "\\begin{split}\n",
        "P(t|z) & = \\prod_{i=1}^{n} P(t_i=1|z_i)^{t_i} \\cdot (1 - P(t_i=1|z_i))^{1-t_i} \\\\\n",
        "& = \\prod_{i=1}^{n} y_i^{t_i} \\cdot (1 - y_i)^{1-t_i} \\end{split}\n",
        "$$\n",
        "\n",
        "Since the logarithmic function is a monotone increasing function we can optimize the log-likelihood function $\\underset{\\theta}{\\text{argmax}}\\; \\log \\mathcal{L}(\\theta|t,z)$. This maximum will be the same as the maximum from the regular likelihood function. The benefit of using the log-likelihood is that it can prevent numerical [underflow](https://en.wikipedia.org/wiki/Arithmetic_underflow) when the probabilities are low. The log-likelihood function can be written as:\n",
        "\n",
        "$$\n",
        "\\begin{split} \\log \\mathcal{L}(\\theta|t,z) & = \\log \\prod_{i=1}^{n} y_i^{t_i} \\cdot (1 - y_i)^{1-t_i} \\\\\n",
        "& = \\sum_{i=1}^{n} t_i \\log(y_i) + (1-t_i) \\log(1 - y_i)\n",
        "\\end{split}\n",
        "$$\n",
        "\n",
        "Minimizing the negative of this function (minimizing the negative log likelihood) corresponds to maximizing the likelihood. This error function $\\xi(t,y)$ is typically known as the [cross-entropy error function](http://en.wikipedia.org/wiki/Cross_entropy) (also known as log-loss):\n",
        "\n",
        "$$\n",
        "\\begin{split}\n",
        "\\xi(t,y) & = - \\log \\mathcal{L}(\\theta|t,z) \\\\\n",
        "& = - \\sum_{i=1}^{n} \\left[ t_i \\log(y_i) + (1-t_i)\\log(1-y_i) \\right] \\\\\n",
        "& = - \\sum_{i=1}^{n} \\left[ t_i \\log(\\sigma(z)) + (1-t_i)\\log(1-\\sigma(z)) \\right]\n",
        "\\end{split}\n",
        "$$\n",
        "\n",
        "This function looks complicated but besides the previous derivation there are a couple of intuitions why this function is used as a [loss function](https://en.wikipedia.org/wiki/Loss_function) for logistic regression. First of all it can be rewritten as:\n",
        "\n",
        "$$\n",
        "\\xi(t_i,y_i) =\n",
        "\\begin{cases}\n",
        "    -\\log(y_i) & \\text{if } t_i = 1 \\\\\n",
        "    -\\log(1-y_i) & \\text{if } t_i = 0\n",
        "\\end{cases}\n",
        "$$\n",
        "  \n",
        "Which in the case of $t_i=1$ is $0$ if $y_i=1$ $(-\\log(1)=0)$ and goes to infinity as $y_i \\rightarrow 0$ $(\\underset{y \\rightarrow 0}{\\text{lim}}{(-\\log(y))} = +\\infty)$. The reverse effect is happening if $t_i=0$.  \n",
        "So what we end up with is a loss function that is $0$ if the probability to predict the correct class is $1$ and goes to infinity as the probability to predict the correct class goes to $0$.\n",
        "\n",
        "Notice that the loss function $\\xi(t,y)$ is equal to the negative [log probability](http://en.wikipedia.org/wiki/Log_probability) that $z$ is classified as its correct class:  \n",
        "$$\n",
        "\\begin{split}\n",
        "-\\log(P(t=1| z)) &= -\\log(y) \\\\  \n",
        "-\\log(P(t=0| z)) &= -\\log(1-y)\n",
        "\\end{split}\n",
        "$$\n",
        "\n",
        "By minimizing the negative log probability, we will maximize the log probability. And since $t$ can only be $0$ or $1$, we can write $\\xi(t,y)$ as:\n",
        "\n",
        "$$\n",
        "\\xi(t,y) = -t \\log(y) - (1-t) \\log(1-y)\n",
        "$$\n",
        "\n",
        "Which will give $\\xi(t,y) = - \\sum_{i=1}^{n} \\left[ t_i \\log(y_i) + (1-t_i)\\log(1-y_i) \\right]$ if we sum over all $n$ samples.\n",
        "\n",
        "\n",
        "Another reason to use the cross-entropy function is that in simple logistic regression this results in a [convex](http://en.wikipedia.org/wiki/Convex_function) loss function, of which the global minimum will be easy to find. Note that this is not necessarily the case anymore in multilayer neural networks."
      ]
    },
    {
      "cell_type": "markdown",
      "metadata": {
        "id": "sxUcr8Fvble0"
      },
      "source": [
        "#### Derivative of the cross-entropy loss function for the logistic function\n",
        "\n",
        "The derivative ${\\partial \\xi}/{\\partial y}$ of the loss function with respect to its input can be calculated as:\n",
        "\n",
        "$$\n",
        "\\begin{split}\n",
        "\\frac{\\partial \\xi}{\\partial y}\n",
        "&= \\frac{\\partial (-t \\log(y) - (1-t) \\log(1-y))}{\\partial y}\n",
        "= \\frac{\\partial (-t \\log(y))}{\\partial y} +  \\frac{\\partial (- (1-t)  \\log(1-y))}{\\partial y} \\\\\n",
        "& = -\\frac{t}{y} + \\frac{1-t}{1-y} = \\frac{y-t}{y(1-y)}\n",
        "\\end{split}\n",
        "$$\n",
        "\n",
        "This derivative will give a nice formula if it is used to calculate the derivative of the loss function with respect to the inputs of the classifier ${\\partial \\xi}/{\\partial z}$ since the derivative of the logistic function is ${\\partial y}/{\\partial z} =  y (1-y)$:\n",
        "\n",
        "$$\n",
        "\\frac{\\partial \\xi}{\\partial z} = \\frac{\\partial y}{\\partial z} \\frac{\\partial \\xi}{\\partial y} = y (1-y) \\frac{y-t}{y(1-y)} = y-t\n",
        "$$"
      ]
    },
    {
      "cell_type": "markdown",
      "metadata": {
        "id": "oVepOshRble1"
      },
      "source": [
        "This was the first part of a 2-part tutorial on classification models trained by cross-entropy:\n",
        "- [Part 1: Logistic classification with cross-entropy (this)]({% post_url /blog/cross_entropy/2015-06-10-cross-entropy-logistic %})\n",
        "- [Part 2: Softmax classification with cross-entropy]({% post_url /blog/cross_entropy/2015-06-11-cross-entropy-softmax %})\n",
        "\n",
        "To see the logistic function in action on a minimal neural network, please read [part 2]({% post_url /blog/neural_net_implementation/2015-06-13-neural-network-implementation-part02 %}) of [this series]({% post_url /blog/neural_net_implementation/2015-06-12-neural-network-implementation-part01 %}) on how to implement a neural network in NumPy."
      ]
    },
    {
      "cell_type": "code",
      "execution_count": null,
      "metadata": {
        "id": "G6L4N369ble1",
        "outputId": "bcd28a7a-57f9-488c-cd6b-bf51e6f3c9a1"
      },
      "outputs": [
        {
          "name": "stdout",
          "output_type": "stream",
          "text": [
            "Python implementation: CPython\n",
            "Python version       : 3.9.4\n",
            "IPython version      : 7.23.1\n",
            "\n",
            "numpy     : 1.20.2\n",
            "matplotlib: 3.4.2\n",
            "seaborn   : 0.11.1\n",
            "\n"
          ]
        }
      ],
      "source": [
        "# Python package versions used\n",
        "%load_ext watermark\n",
        "%watermark --python\n",
        "%watermark --iversions\n",
        "#"
      ]
    },
    {
      "cell_type": "markdown",
      "metadata": {
        "id": "rErceM_Cble1"
      },
      "source": [
        "This post at <a rel=\"canonical\" href=\"https://peterroelants.github.io/posts/cross-entropy-logistic/\">peterroelants.github.io</a> is generated from an IPython notebook file. [Link to the full IPython notebook file](https://github.com/peterroelants/peterroelants.github.io/blob/main/notebooks/cross_entropy/cross-entropy-logistic.ipynb)"
      ]
    }
  ],
  "metadata": {
    "kernelspec": {
      "display_name": "Python 3",
      "language": "python",
      "name": "python3"
    },
    "language_info": {
      "codemirror_mode": {
        "name": "ipython",
        "version": 3
      },
      "file_extension": ".py",
      "mimetype": "text/x-python",
      "name": "python",
      "nbconvert_exporter": "python",
      "pygments_lexer": "ipython3",
      "version": "3.9.4"
    },
    "colab": {
      "provenance": []
    }
  },
  "nbformat": 4,
  "nbformat_minor": 0
}